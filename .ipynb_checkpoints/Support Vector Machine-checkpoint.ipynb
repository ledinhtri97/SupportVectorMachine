{
 "cells": [
  {
   "cell_type": "markdown",
   "metadata": {},
   "source": [
    "Binary Classification <br>\n"
   ]
  },
  {
   "cell_type": "code",
   "execution_count": 4,
   "metadata": {},
   "outputs": [],
   "source": [
    "from __future__ import print_function\n",
    "import numpy as np\n",
    "import matplotlib.pyplot as plt\n",
    "from scipy.spatial.distance import cdist\n",
    "\n",
    "np.random.seed(22)\n",
    "\n",
    "means = [[2,2], [4,2]]\n",
    "cov = [[.3,.2], [.2,.3]]\n",
    "N = 10\n",
    "X0 = np.random.multivariate_normal(means[0], cov, N) #class 1\n",
    "X1 = np.random.multivariate_normal(means[1], cov, N) #class 1\n",
    "X = np.concatenate((X0.T, X1.T), axis = 1) #all data\n",
    "y = np.concatenate((np.ones((1, N)), -1*np.ones((1, N))), axis = 1) #all data"
   ]
  },
  {
   "cell_type": "code",
   "execution_count": null,
   "metadata": {},
   "outputs": [],
   "source": [
    "from cvxopt import matrix, solvers\n",
    "\n",
    "#build K\n",
    "V = np.concatenate((X0.T, -X1.T), axis=1) #V=[y1x1, y2x2,...,ynxn]\n",
    "K = maxtri(V.T.dot(V)) #K = V^T.V\n",
    "\n",
    "p = matrix(-np.ones((2*N, 1))) #all-one vector"
   ]
  }
 ],
 "metadata": {
  "kernelspec": {
   "display_name": "Python 3",
   "language": "python",
   "name": "python3"
  },
  "language_info": {
   "codemirror_mode": {
    "name": "ipython",
    "version": 3
   },
   "file_extension": ".py",
   "mimetype": "text/x-python",
   "name": "python",
   "nbconvert_exporter": "python",
   "pygments_lexer": "ipython3",
   "version": "3.6.5"
  }
 },
 "nbformat": 4,
 "nbformat_minor": 2
}
